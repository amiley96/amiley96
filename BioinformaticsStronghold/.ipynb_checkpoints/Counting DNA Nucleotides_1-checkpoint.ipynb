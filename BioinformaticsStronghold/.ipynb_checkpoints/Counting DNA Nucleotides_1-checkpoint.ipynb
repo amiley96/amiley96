{
 "cells": [
  {
   "cell_type": "code",
   "execution_count": 38,
   "id": "c2a17525",
   "metadata": {},
   "outputs": [],
   "source": [
    "filename = \"/Users/alexandriamiley/Desktop/Rosalind/Bioinformatics Stronghold/rosalind_dna.txt\"\n",
    "\n",
    "with open(filename) as f:\n",
    "    seq = f.readlines()\n",
    "\n",
    "listofwords=list(seq[0].strip())\n",
    "d = {}"
   ]
  },
  {
   "cell_type": "code",
   "execution_count": 39,
   "id": "6402f64d",
   "metadata": {},
   "outputs": [],
   "source": [
    "for i in listofwords:\n",
    "    if i not in d:\n",
    "        d[i]=1\n",
    "    else: \n",
    "        d[i]+=1"
   ]
  },
  {
   "cell_type": "code",
   "execution_count": 40,
   "id": "b24a714b",
   "metadata": {},
   "outputs": [
    {
     "name": "stdout",
     "output_type": "stream",
     "text": [
      "{'G': 212, 'A': 207, 'T': 220, 'C': 224}\n",
      "207 224 212 220\n"
     ]
    }
   ],
   "source": [
    "print(d)\n",
    "print(str(d['A'])+\" \" + str(d['C'])+\" \" +str(d['G'])+ \" \" +str(d['T']))"
   ]
  }
 ],
 "metadata": {
  "kernelspec": {
   "display_name": "Python 3",
   "language": "python",
   "name": "python3"
  },
  "language_info": {
   "codemirror_mode": {
    "name": "ipython",
    "version": 3
   },
   "file_extension": ".py",
   "mimetype": "text/x-python",
   "name": "python",
   "nbconvert_exporter": "python",
   "pygments_lexer": "ipython3",
   "version": "3.9.5"
  }
 },
 "nbformat": 4,
 "nbformat_minor": 5
}

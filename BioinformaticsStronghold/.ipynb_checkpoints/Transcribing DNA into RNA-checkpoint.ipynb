{
 "cells": [
  {
   "cell_type": "code",
   "execution_count": 3,
   "id": "f1a2453b",
   "metadata": {},
   "outputs": [],
   "source": [
    "seq = 'GATGGAACTTGACTACGTAAATT'"
   ]
  },
  {
   "cell_type": "code",
   "execution_count": 32,
   "id": "8273f0f1",
   "metadata": {},
   "outputs": [],
   "source": [
    "filename = \"/Users/alexandriamiley/Desktop/Rosalind/Bioinformatics Stronghold/rosalind_rna.txt\"\n"
   ]
  },
  {
   "cell_type": "code",
   "execution_count": 76,
   "id": "f457f45d",
   "metadata": {},
   "outputs": [
    {
     "data": {
      "text/plain": [
       "list"
      ]
     },
     "execution_count": 76,
     "metadata": {},
     "output_type": "execute_result"
    }
   ],
   "source": [
    "with open(filename) as f:\n",
    "    seq = f.readlines()\n",
    "    \n",
    "transcribed = []\n",
    "sequence=str(seq[0])\n",
    "sequence=(str(seq).strip())\n"
   ]
  },
  {
   "cell_type": "code",
   "execution_count": 77,
   "id": "82a05c10",
   "metadata": {},
   "outputs": [],
   "source": [
    "for i in sequence:\n",
    "    if i != 'T' and i =='A' or i == 'C' or i=='G':\n",
    "        transcribed.append(i)\n",
    "    else:\n",
    "        transcribed.append('U')\n"
   ]
  },
  {
   "cell_type": "code",
   "execution_count": 79,
   "id": "0276d426",
   "metadata": {},
   "outputs": [
    {
     "name": "stdout",
     "output_type": "stream",
     "text": [
      "UUUGUUGUACCGAGUCAAUCGGUGAUAAAACUACCGAGCUCUACAGUACAUGCCUGGUAGCCAUCAUGCACUUGGCUAGACGUGGCCACCAGAUAUGCUGAUACCUCAAAAGAUGUGUUCCAACGCAAAACAUCAGUCGGGUUUAAUGAAAACUCUGUCUACGGGCGGAACGUUUUAGAUUCCUAGACCUUUUAAAACUUUGCAUUACCAAUCCUCAGUACACCUAAUUGAUGGGAUGACAUUUGUUCGUGUCCCCAACGGCGACUGGUUAUUACGACGAAGAAGCUGUUUUCAUUCGGAAUGAAUGGGACAAACAAAGAUGGCCGCUUGGAACACUACACGUGACGCGAGGGUUCUUCAAUAUAAUAUAGGGAUCGGGGUGUGUAUAGAAAGACGUGAUGCCCCGGCGCACCGUUUAGAUAAUGACGCGCCAGUGACCAUUAAACGUCUAUCUGUGAGCUAGUCACCUGCCCCUAGAUACCCGCAUGCAUUCGGAGUUCAAAAGUAAAUCAGAAAUGUCCAACGAUCCCGGAGAGUUAAUCCAAGGUGGUGCUGUCGACGGCUUGAUUACCAUAGUUUGAGCGCGCCUGCUGAUGGCUCGAGAGCACCCAUGAUCAAACGUUAGUUCCACGGACCUAAAAGAGGACAGAAUCAUGACGAAAACAUACACCCCACUGUGGGGGGAGUCUCUCGCCUACGUUCUCCCAUCGGCGGGACCCCGGCUGCGAAGUCGCGGUCGUCUUCCUUGCCACCAAAGAAUGUCUGUCUGCGAGGGACACGUGCGGAUCACCGUUUGGGCUCCUUCACAUGAUCACGGAGGACUCUGCGUGGGGGCUAAAGUUGGCGUCACCGUAAGCGCGUCUCGAAAAUACCACAUUAGCGACACCUAAAAGCUAGAAAUGCGGCUUAUAUAUCUUGGUCCGCAUCCAUGACGCACUAUGGAGUCCUUAUAGUUUUGGGGAAUUAUAGAUGCAAGACUCGCGUUUGGGGGGGAUUCCGCAUUUU\n"
     ]
    }
   ],
   "source": [
    "print((''.join(transcribed)))"
   ]
  },
  {
   "cell_type": "code",
   "execution_count": null,
   "id": "44d9fa36",
   "metadata": {},
   "outputs": [],
   "source": []
  }
 ],
 "metadata": {
  "kernelspec": {
   "display_name": "Python 3",
   "language": "python",
   "name": "python3"
  },
  "language_info": {
   "codemirror_mode": {
    "name": "ipython",
    "version": 3
   },
   "file_extension": ".py",
   "mimetype": "text/x-python",
   "name": "python",
   "nbconvert_exporter": "python",
   "pygments_lexer": "ipython3",
   "version": "3.9.5"
  }
 },
 "nbformat": 4,
 "nbformat_minor": 5
}

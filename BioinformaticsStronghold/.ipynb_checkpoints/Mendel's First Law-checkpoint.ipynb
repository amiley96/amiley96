{
 "cells": [
  {
   "cell_type": "code",
   "execution_count": 70,
   "id": "c7fbd4a2",
   "metadata": {},
   "outputs": [],
   "source": [
    "filename = \"/Users/alexandriamiley/Desktop/Rosalind/Bioinformatics Stronghold/rosalind_iprb.txt\"\n",
    "\n",
    "with open(filename) as f:\n",
    "    domhetrec = f.readlines()"
   ]
  },
  {
   "cell_type": "code",
   "execution_count": 71,
   "id": "1eca7794",
   "metadata": {},
   "outputs": [
    {
     "name": "stdout",
     "output_type": "stream",
     "text": [
      "18 21 18 57\n"
     ]
    }
   ],
   "source": [
    "domhetrecList = domhetrec[0].split()\n",
    "domhetrecList = [int(i) for i in domhetrecList]\n",
    "k = domhetrecList[0]\n",
    "m = domhetrecList[1]\n",
    "n = domhetrecList[2]\n",
    "p = k+m+n\n",
    "print(k,m,n,p)"
   ]
  },
  {
   "cell_type": "code",
   "execution_count": 72,
   "id": "0abbbd60",
   "metadata": {},
   "outputs": [],
   "source": [
    "b1 = (k/p)*((k-1)/(p-1))\n",
    "b2 = ((k/p)*(m/(p-1))+(m/p)*(k/(p-1)))\n",
    "b3 = ((k/p)*(n/(p-1))+(n/p)*(k/(p-1)))\n",
    "b4 = .75*((m/p)*((m-1)/(p-1)))\n",
    "b5 = .5*((m/p)*(n/(p-1))+(n/p)*(m/(p-1)))\n",
    "b6 = 0*((n/p)*((n-1)/(p-1)))"
   ]
  },
  {
   "cell_type": "code",
   "execution_count": 73,
   "id": "5e79b6d4",
   "metadata": {},
   "outputs": [],
   "source": [
    "domlikelihood = b1+b2+b3+b4+b5+b6"
   ]
  },
  {
   "cell_type": "code",
   "execution_count": 76,
   "id": "c73e026f",
   "metadata": {},
   "outputs": [
    {
     "data": {
      "text/plain": [
       "0.75282"
      ]
     },
     "execution_count": 76,
     "metadata": {},
     "output_type": "execute_result"
    }
   ],
   "source": [
    "round(domlikelihood,5)"
   ]
  }
 ],
 "metadata": {
  "kernelspec": {
   "display_name": "Python 3",
   "language": "python",
   "name": "python3"
  },
  "language_info": {
   "codemirror_mode": {
    "name": "ipython",
    "version": 3
   },
   "file_extension": ".py",
   "mimetype": "text/x-python",
   "name": "python",
   "nbconvert_exporter": "python",
   "pygments_lexer": "ipython3",
   "version": "3.9.5"
  }
 },
 "nbformat": 4,
 "nbformat_minor": 5
}

{
 "cells": [
  {
   "cell_type": "code",
   "execution_count": 1,
   "id": "a9535444",
   "metadata": {},
   "outputs": [],
   "source": [
    "import re"
   ]
  },
  {
   "cell_type": "code",
   "execution_count": 2,
   "id": "5ef0af64",
   "metadata": {},
   "outputs": [],
   "source": [
    "filename = \"/Users/alexandriamiley/Desktop/Rosalind/BioinformaticsStronghold/data/rosalind_grph.txt\"\n",
    "\n",
    "with open(filename) as f:\n",
    "    contents = f.readlines()"
   ]
  },
  {
   "cell_type": "code",
   "execution_count": 3,
   "id": "4c683da7",
   "metadata": {},
   "outputs": [],
   "source": [
    "new = '' .join(' '.join(contents).split()).strip()"
   ]
  },
  {
   "cell_type": "code",
   "execution_count": 4,
   "id": "280a0bab",
   "metadata": {},
   "outputs": [],
   "source": [
    "splitted = ''.join(re.split('\\\\\\\\',new))\n",
    "justRos=re.sub('^.*?>Rosalind', '>Rosalind', splitted)"
   ]
  },
  {
   "cell_type": "code",
   "execution_count": 5,
   "id": "545752e3",
   "metadata": {},
   "outputs": [],
   "source": [
    "justRosList=justRos.split('>')"
   ]
  },
  {
   "cell_type": "code",
   "execution_count": 6,
   "id": "9343a39a",
   "metadata": {},
   "outputs": [
    {
     "name": "stdout",
     "output_type": "stream",
     "text": [
      "\n"
     ]
    }
   ],
   "source": [
    "keylist = []\n",
    "valuelist = []\n",
    "\n",
    "\n",
    "for element in justRosList:\n",
    "    if len(element) == 0:\n",
    "            print(element)\n",
    "    else:\n",
    "        values = str((re.findall('Rosalind_[0-9]*', element))).strip(\"'[,]'\")\n",
    "        valuelist.append(str(values))\n",
    "        keys = re.split('Rosalind_[0-9]*',element)[1].strip('}')\n",
    "        keylist.append(str(keys))"
   ]
  },
  {
   "cell_type": "code",
   "execution_count": 7,
   "id": "ed50eb28",
   "metadata": {},
   "outputs": [],
   "source": [
    "first = []\n",
    "last = []\n",
    "seq = []"
   ]
  },
  {
   "cell_type": "code",
   "execution_count": 8,
   "id": "705f9eaf",
   "metadata": {},
   "outputs": [],
   "source": [
    "d = {}\n",
    "count = 0\n",
    "\n",
    "for i in keylist:\n",
    "    if i not in d:\n",
    "        d[i] = valuelist[count]\n",
    "        count+=1"
   ]
  },
  {
   "cell_type": "code",
   "execution_count": 9,
   "id": "5618ef4a",
   "metadata": {},
   "outputs": [],
   "source": [
    "for i in d.keys():\n",
    "    first.append(i[0:3])\n",
    "    last.append(i[-3:len(i)])\n",
    "    seq.append(i)"
   ]
  },
  {
   "cell_type": "code",
   "execution_count": 10,
   "id": "417e52f6",
   "metadata": {},
   "outputs": [
    {
     "name": "stdout",
     "output_type": "stream",
     "text": [
      "Rosalind_6455 Rosalind_4243\n",
      "Rosalind_6455 Rosalind_9430\n",
      "Rosalind_6455 Rosalind_8207\n",
      "Rosalind_6455 Rosalind_1159\n",
      "Rosalind_2404 Rosalind_6889\n",
      "Rosalind_2404 Rosalind_3501\n",
      "Rosalind_9559 Rosalind_6886\n",
      "Rosalind_9559 Rosalind_2665\n",
      "Rosalind_9702 Rosalind_9073\n",
      "Rosalind_9702 Rosalind_5258\n",
      "Rosalind_9702 Rosalind_5443\n",
      "Rosalind_8131 Rosalind_0954\n",
      "Rosalind_7456 Rosalind_4804\n",
      "Rosalind_7456 Rosalind_7426\n",
      "Rosalind_7456 Rosalind_5368\n",
      "Rosalind_3538 Rosalind_1358\n",
      "Rosalind_3538 Rosalind_6984\n",
      "Rosalind_5335 Rosalind_8998\n",
      "Rosalind_6936 Rosalind_3570\n",
      "Rosalind_6936 Rosalind_4423\n",
      "Rosalind_6936 Rosalind_0784\n",
      "Rosalind_4804 Rosalind_2404\n",
      "Rosalind_4804 Rosalind_6594\n",
      "Rosalind_4804 Rosalind_2004\n",
      "Rosalind_1144 Rosalind_5115\n",
      "Rosalind_6889 Rosalind_4804\n",
      "Rosalind_6889 Rosalind_7426\n",
      "Rosalind_6889 Rosalind_5368\n",
      "Rosalind_6886 Rosalind_4243\n",
      "Rosalind_6886 Rosalind_9430\n",
      "Rosalind_6886 Rosalind_8207\n",
      "Rosalind_6886 Rosalind_1159\n",
      "Rosalind_9857 Rosalind_5115\n",
      "Rosalind_4243 Rosalind_6886\n",
      "Rosalind_4243 Rosalind_2665\n",
      "Rosalind_0954 Rosalind_5849\n",
      "Rosalind_5325 Rosalind_5335\n",
      "Rosalind_0291 Rosalind_8258\n",
      "Rosalind_0291 Rosalind_5908\n",
      "Rosalind_3062 Rosalind_8998\n",
      "Rosalind_5908 Rosalind_9442\n",
      "Rosalind_5908 Rosalind_0344\n",
      "Rosalind_7009 Rosalind_7456\n",
      "Rosalind_7009 Rosalind_6088\n",
      "Rosalind_1358 Rosalind_4383\n",
      "Rosalind_1358 Rosalind_2039\n",
      "Rosalind_1358 Rosalind_8250\n",
      "Rosalind_1646 Rosalind_9702\n",
      "Rosalind_1646 Rosalind_6997\n",
      "Rosalind_1646 Rosalind_7407\n",
      "Rosalind_2911 Rosalind_5325\n",
      "Rosalind_2911 Rosalind_1117\n",
      "Rosalind_2911 Rosalind_9893\n",
      "Rosalind_2911 Rosalind_0468\n",
      "Rosalind_5849 Rosalind_5115\n",
      "Rosalind_9252 Rosalind_0920\n",
      "Rosalind_9252 Rosalind_4467\n",
      "Rosalind_9252 Rosalind_9179\n",
      "Rosalind_9430 Rosalind_4804\n",
      "Rosalind_9430 Rosalind_7426\n",
      "Rosalind_9430 Rosalind_5368\n",
      "Rosalind_7633 Rosalind_0920\n",
      "Rosalind_7633 Rosalind_4467\n",
      "Rosalind_7633 Rosalind_9179\n",
      "Rosalind_9557 Rosalind_0104\n",
      "Rosalind_9557 Rosalind_2487\n",
      "Rosalind_4383 Rosalind_6889\n",
      "Rosalind_4383 Rosalind_3501\n",
      "Rosalind_6594 Rosalind_9252\n",
      "Rosalind_7760 Rosalind_3502\n",
      "Rosalind_5115 Rosalind_2404\n",
      "Rosalind_5115 Rosalind_6594\n",
      "Rosalind_5115 Rosalind_2004\n",
      "Rosalind_3502 Rosalind_7753\n",
      "Rosalind_3502 Rosalind_3117\n",
      "Rosalind_3502 Rosalind_0703\n",
      "Rosalind_9442 Rosalind_1358\n",
      "Rosalind_9442 Rosalind_6984\n",
      "Rosalind_1117 Rosalind_1381\n",
      "Rosalind_8207 Rosalind_3480\n",
      "Rosalind_8207 Rosalind_3347\n",
      "Rosalind_8207 Rosalind_1054\n",
      "Rosalind_4467 Rosalind_7760\n",
      "Rosalind_4467 Rosalind_2945\n",
      "Rosalind_4467 Rosalind_1827\n",
      "Rosalind_4467 Rosalind_2908\n",
      "Rosalind_9893 Rosalind_6936\n",
      "Rosalind_9893 Rosalind_1646\n",
      "Rosalind_9893 Rosalind_2408\n",
      "Rosalind_3919 Rosalind_9498\n",
      "Rosalind_0737 Rosalind_7009\n",
      "Rosalind_3347 Rosalind_9442\n",
      "Rosalind_3347 Rosalind_0344\n",
      "Rosalind_1844 Rosalind_3570\n",
      "Rosalind_1844 Rosalind_4423\n",
      "Rosalind_1844 Rosalind_0784\n",
      "Rosalind_1400 Rosalind_9165\n",
      "Rosalind_1827 Rosalind_3919\n",
      "Rosalind_1827 Rosalind_1400\n",
      "Rosalind_7861 Rosalind_3919\n",
      "Rosalind_7861 Rosalind_1400\n",
      "Rosalind_5258 Rosalind_7753\n",
      "Rosalind_5258 Rosalind_3117\n",
      "Rosalind_5258 Rosalind_0703\n",
      "Rosalind_1054 Rosalind_4628\n",
      "Rosalind_9625 Rosalind_1144\n",
      "Rosalind_9625 Rosalind_1844\n",
      "Rosalind_9625 Rosalind_0608\n",
      "Rosalind_4628 Rosalind_4804\n",
      "Rosalind_4628 Rosalind_7426\n",
      "Rosalind_4628 Rosalind_5368\n",
      "Rosalind_2487 Rosalind_2911\n",
      "Rosalind_2487 Rosalind_9228\n",
      "Rosalind_2665 Rosalind_6889\n",
      "Rosalind_2665 Rosalind_3501\n",
      "Rosalind_0344 Rosalind_0737\n",
      "Rosalind_1381 Rosalind_4243\n",
      "Rosalind_1381 Rosalind_9430\n",
      "Rosalind_1381 Rosalind_8207\n",
      "Rosalind_1381 Rosalind_1159\n",
      "Rosalind_6997 Rosalind_1381\n",
      "Rosalind_2004 Rosalind_9442\n",
      "Rosalind_2004 Rosalind_0344\n",
      "Rosalind_5368 Rosalind_1358\n",
      "Rosalind_5368 Rosalind_6984\n",
      "Rosalind_4194 Rosalind_3062\n",
      "Rosalind_4194 Rosalind_7633\n",
      "Rosalind_4194 Rosalind_7211\n",
      "Rosalind_4194 Rosalind_4888\n",
      "Rosalind_4194 Rosalind_0918\n",
      "Rosalind_8665 Rosalind_9252\n",
      "Rosalind_2908 Rosalind_8151\n",
      "Rosalind_7211 Rosalind_6886\n",
      "Rosalind_7211 Rosalind_2665\n",
      "Rosalind_4888 Rosalind_3570\n",
      "Rosalind_4888 Rosalind_4423\n",
      "Rosalind_4888 Rosalind_0784\n",
      "Rosalind_8250 Rosalind_2404\n",
      "Rosalind_8250 Rosalind_6594\n",
      "Rosalind_8250 Rosalind_2004\n",
      "Rosalind_8264 Rosalind_4383\n",
      "Rosalind_8264 Rosalind_2039\n",
      "Rosalind_8264 Rosalind_8250\n",
      "Rosalind_1159 Rosalind_0954\n",
      "Rosalind_6088 Rosalind_3617\n",
      "Rosalind_0918 Rosalind_9498\n",
      "Rosalind_5443 Rosalind_8998\n",
      "Rosalind_7407 Rosalind_2404\n",
      "Rosalind_7407 Rosalind_6594\n",
      "Rosalind_7407 Rosalind_2004\n"
     ]
    }
   ],
   "source": [
    "for i in range(len(last)):\n",
    "    for j in range(len(first)):\n",
    "        if last[i] == first[j] and i!=j:\n",
    "            print(d[seq[i]],d[seq[j]])"
   ]
  }
 ],
 "metadata": {
  "kernelspec": {
   "display_name": "Python 3",
   "language": "python",
   "name": "python3"
  },
  "language_info": {
   "codemirror_mode": {
    "name": "ipython",
    "version": 3
   },
   "file_extension": ".py",
   "mimetype": "text/x-python",
   "name": "python",
   "nbconvert_exporter": "python",
   "pygments_lexer": "ipython3",
   "version": "3.9.5"
  }
 },
 "nbformat": 4,
 "nbformat_minor": 5
}

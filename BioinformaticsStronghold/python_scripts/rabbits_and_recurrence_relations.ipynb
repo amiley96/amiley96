{
 "cells": [
  {
   "cell_type": "code",
   "execution_count": 127,
   "id": "9cf7f0af",
   "metadata": {},
   "outputs": [],
   "source": [
    "filename = \"/Users/alexandriamiley/Desktop/Rosalind/Bioinformatics Stronghold/rosalind_fib.txt\"\n",
    "\n",
    "with open(filename) as f:\n",
    "    contents = f.readlines()"
   ]
  },
  {
   "cell_type": "code",
   "execution_count": 129,
   "id": "0fa79bd6",
   "metadata": {},
   "outputs": [
    {
     "name": "stdout",
     "output_type": "stream",
     "text": [
      "['32', '3']\n"
     ]
    }
   ],
   "source": [
    "contents=(contents[0]).split()\n",
    "print(list(contents))\n"
   ]
  },
  {
   "cell_type": "markdown",
   "id": "5c3fa1e8",
   "metadata": {},
   "source": [
    "m:1\n",
    "rpb:1\n",
    "rpahb:0\n",
    "rpp:0\n",
    "\n",
    "m:2\n",
    "rpb:0\n",
    "rpahb:0\n",
    "rpp:1\n",
    "\n",
    "m:3\n",
    "rpb:3\n",
    "rpahb:1\n",
    "rpp:1\n",
    "\n",
    "m:4\n",
    "rpb:3\n",
    "rpahb:1\n",
    "rpp:4\n",
    "\n",
    "m:5\n",
    "rpb:12\n",
    "rphb:4\n",
    "rpp:7"
   ]
  },
  {
   "cell_type": "code",
   "execution_count": 133,
   "id": "d1a57af4",
   "metadata": {},
   "outputs": [],
   "source": [
    "months=int(contents[0])\n",
    "k=int(contents[1])\n",
    "count=1\n",
    "\n",
    "babypair=1\n",
    "adultpairbirthing=0\n",
    "adultpairpregnant=0\n",
    "bplist = []\n",
    "apblist = []\n",
    "applist = []"
   ]
  },
  {
   "cell_type": "code",
   "execution_count": 134,
   "id": "779fb0fd",
   "metadata": {},
   "outputs": [],
   "source": [
    "while count <= months:\n",
    "\n",
    "    bplist.append(babypair)\n",
    "    apblist.append(adultpairbirthing)\n",
    "    applist.append(adultpairpregnant)\n",
    "    \n",
    "    babypairtmp = babypair\n",
    "    babypair = k*adultpairpregnant\n",
    "    adultpairbirthing=adultpairpregnant\n",
    "    adultpairpregnant = adultpairpregnant+babypairtmp\n",
    "    \n",
    "    count=count+1"
   ]
  },
  {
   "cell_type": "code",
   "execution_count": 135,
   "id": "e14bedf7",
   "metadata": {},
   "outputs": [
    {
     "name": "stdout",
     "output_type": "stream",
     "text": [
      "108412748857\n"
     ]
    }
   ],
   "source": [
    "totalrabbits = bplist[months-1]+applist[months-1]\n",
    "print(totalrabbits)"
   ]
  }
 ],
 "metadata": {
  "kernelspec": {
   "display_name": "Python 3",
   "language": "python",
   "name": "python3"
  },
  "language_info": {
   "codemirror_mode": {
    "name": "ipython",
    "version": 3
   },
   "file_extension": ".py",
   "mimetype": "text/x-python",
   "name": "python",
   "nbconvert_exporter": "python",
   "pygments_lexer": "ipython3",
   "version": "3.9.5"
  }
 },
 "nbformat": 4,
 "nbformat_minor": 5
}

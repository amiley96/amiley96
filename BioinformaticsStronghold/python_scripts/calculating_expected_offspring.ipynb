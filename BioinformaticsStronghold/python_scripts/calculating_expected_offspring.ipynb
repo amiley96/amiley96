{
 "cells": [
  {
   "cell_type": "code",
   "execution_count": 1,
   "id": "0c6c9532",
   "metadata": {},
   "outputs": [],
   "source": [
    "filename = \"/Users/alexandriamiley/Desktop/Rosalind/BioinformaticsStronghold/data/rosalind_iev.txt\"\n",
    "\n",
    "with open(filename) as f:\n",
    "    contents = f.readlines()"
   ]
  },
  {
   "cell_type": "code",
   "execution_count": 2,
   "id": "54fcb6b1",
   "metadata": {},
   "outputs": [
    {
     "name": "stdout",
     "output_type": "stream",
     "text": [
      "[16307, 19953, 16718, 18003, 19601, 16388]\n"
     ]
    }
   ],
   "source": [
    "contents=contents[0].split()\n",
    "haplotypes = [int(i) for i in contents]\n",
    "# total = sum(haplotypes)\n",
    "print(haplotypes)"
   ]
  },
  {
   "cell_type": "code",
   "execution_count": 3,
   "id": "7f5c0f14",
   "metadata": {},
   "outputs": [],
   "source": [
    "domdom = 2*haplotypes[0]\n",
    "domhet = 2*haplotypes[1]\n",
    "domrec = 2*haplotypes[2]\n",
    "hethet = 2*.75*haplotypes[3]\n",
    "hetrec = 2*.5*haplotypes[4]\n",
    "recrec = 0"
   ]
  },
  {
   "cell_type": "code",
   "execution_count": 4,
   "id": "0c6ab07d",
   "metadata": {},
   "outputs": [
    {
     "data": {
      "text/plain": [
       "152561.5"
      ]
     },
     "execution_count": 4,
     "metadata": {},
     "output_type": "execute_result"
    }
   ],
   "source": [
    "(domdom+domhet+domrec+hethet+hetrec)"
   ]
  },
  {
   "cell_type": "code",
   "execution_count": null,
   "id": "cd025c55",
   "metadata": {},
   "outputs": [],
   "source": []
  }
 ],
 "metadata": {
  "kernelspec": {
   "display_name": "Python 3",
   "language": "python",
   "name": "python3"
  },
  "language_info": {
   "codemirror_mode": {
    "name": "ipython",
    "version": 3
   },
   "file_extension": ".py",
   "mimetype": "text/x-python",
   "name": "python",
   "nbconvert_exporter": "python",
   "pygments_lexer": "ipython3",
   "version": "3.9.5"
  }
 },
 "nbformat": 4,
 "nbformat_minor": 5
}

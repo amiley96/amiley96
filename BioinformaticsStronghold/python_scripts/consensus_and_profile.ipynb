{
 "cells": [
  {
   "cell_type": "code",
   "execution_count": 1,
   "id": "bd95d956",
   "metadata": {},
   "outputs": [],
   "source": [
    "import re\n",
    "filename = \"/Users/alexandriamiley/Desktop/Rosalind/BioinformaticsStronghold/data/rosalind_cons.txt\"\n",
    "\n",
    "with open(filename) as f:\n",
    "    contents = f.readlines()"
   ]
  },
  {
   "cell_type": "code",
   "execution_count": 2,
   "id": "7dc633ec",
   "metadata": {},
   "outputs": [],
   "source": [
    "new = '' .join(' '.join(contents).split()).strip()\n",
    "splitted = ''.join(re.split('\\\\\\\\',new))\n",
    "justRos=re.sub('^.*?>Rosalind', '>Rosalind', splitted)\n",
    "justRosList=justRos.split('>')\n",
    "# print(justRosList)"
   ]
  },
  {
   "cell_type": "code",
   "execution_count": 3,
   "id": "c9cfb72a",
   "metadata": {},
   "outputs": [
    {
     "name": "stdout",
     "output_type": "stream",
     "text": [
      "\n"
     ]
    }
   ],
   "source": [
    "keylist = []\n",
    "valuelist = []\n",
    "\n",
    "for element in justRosList:\n",
    "    if len(element) == 0:\n",
    "            print(element)\n",
    "    else:\n",
    "        keys = str((re.findall('Rosalind_[0-9]*', element))).strip(\"'[,]'\")\n",
    "        keylist.append(str(keys).strip())\n",
    "        value = re.split('Rosalind_[0-9]*',element)[1].strip('}')\n",
    "        valuelist.append(str(value))\n",
    "# print(keylist)\n",
    "# print(valuelist)"
   ]
  },
  {
   "cell_type": "code",
   "execution_count": 4,
   "id": "c9bfd3c9",
   "metadata": {},
   "outputs": [],
   "source": [
    "d = {}\n",
    "count = 0\n",
    "\n",
    "for i in keylist:\n",
    "    if i not in d:\n",
    "        d[i] = valuelist[count]\n",
    "        count+=1\n",
    "# print(d)\n",
    "listvalues=list(d.values())\n",
    "# print(listvalues)"
   ]
  },
  {
   "cell_type": "code",
   "execution_count": 5,
   "id": "d694eeca",
   "metadata": {},
   "outputs": [],
   "source": [
    "import numpy as np"
   ]
  },
  {
   "cell_type": "code",
   "execution_count": 6,
   "id": "7f87caa8",
   "metadata": {},
   "outputs": [],
   "source": [
    "#build matrix for profile\n",
    "string=listvalues[0]\n",
    "seqlength = len(string)\n",
    "a=np.zeros((4,seqlength), dtype=int)\n",
    "# seqlength\n",
    "# print(seqlength)\n",
    "# print(a)"
   ]
  },
  {
   "cell_type": "code",
   "execution_count": 7,
   "id": "7f127327",
   "metadata": {},
   "outputs": [],
   "source": [
    "# count occurence of nuc, add occurence to profile matrix\n",
    "for value in listvalues:\n",
    "    for i in range(seqlength):\n",
    "        if value[i] == 'A':\n",
    "            a[0][i]+=1\n",
    "        if value[i] == 'C':\n",
    "            a[1][i]+=1\n",
    "        if value[i] == 'G':\n",
    "            a[2][i]+=1\n",
    "        if value[i] == 'T':\n",
    "            a[3][i]+=1\n",
    "    count+=1\n",
    "# print(a)"
   ]
  },
  {
   "cell_type": "code",
   "execution_count": 8,
   "id": "3c696a18",
   "metadata": {},
   "outputs": [],
   "source": [
    "Aprof = (str(a[0]).strip('[]').replace('\\n',''))\n",
    "Cprof = (str(a[1]).strip('[]').replace('\\n',''))\n",
    "Gprof = (str(a[2]).strip('[]').replace('\\n',''))\n",
    "Tprof = (str(a[3]).strip('[]').replace('\\n',''))\n",
    "# (Aprof)"
   ]
  },
  {
   "cell_type": "code",
   "execution_count": 9,
   "id": "48b98786",
   "metadata": {},
   "outputs": [],
   "source": [
    "nuccode = {0:'A',1:'C',2:'G',3:'T'}\n",
    "profilelist = []\n",
    "profilelistchar = []"
   ]
  },
  {
   "cell_type": "code",
   "execution_count": 10,
   "id": "dbc0a3b4",
   "metadata": {},
   "outputs": [],
   "source": [
    "for i in range(seqlength):\n",
    "    maxocc = ((np.where(a[:,i] == max(a[:,i]))[0][0]))\n",
    "    profilelist.append(maxocc)"
   ]
  },
  {
   "cell_type": "code",
   "execution_count": 11,
   "id": "5723d6f7",
   "metadata": {},
   "outputs": [
    {
     "name": "stdout",
     "output_type": "stream",
     "text": [
      "CAGTAAAGATAGAACAAATACTGCTCTAGGAAAATCCCCACTAAAAGTATCCAGAGCGCGCGAGAGAGCATACTCCATCCAAGACAGCAAGGCCCCATATCTAGAATACCCGCAACCGTTCGCTACTCGAAGAAATGACCCCCGCGAGCGGCCTAAATTAAGTAGAGACACCAGACAAAACGCGACATCCCCAAAATCTATCTACGAAAAAAGAAGCGGGATCCTGAGAAAAAATCGACCGACCACTTTAGCTGCCAAAAAACGGGCAGATGACCAGATACCCGCATAACAGTACCTACACCAACCGCCGTTAGGCAAAATAGCAAGTAATAGTGTAGAGGCACCTGGCTGCACAAGCCGGAAATAAAGATAGTGGCGTCACCCGTCACTTATATTAAAAATCCTGAATGACAGAAGCAGCATGAACGAGGTACGGAAAGGCACACAACGACTATCCGGTGGATTCAGGTCTACTTTCACACCGTGTCATGCGCCGTAAACACACGCCTCTAATATACATAACAATCGTAATACCAGAAAGACAACAGAGACCTAGGCGCACGGGCGTGATCCACCACTAGCAGGGCGACCCTTACCGGCCCTCAAGCGCCGGTAGGGAAACTGAAAAATTGTCTCAGGGAGAACACGGGGATGCGCATAAGCTGTCGATAACGCCCTAGTGCCACGACTTCAGCAGGAATTGCTCTAGCCAATATAACTCAAATGATGAAGAACCCTCTCGAACGATCACAGGAAAACAGAATCACATGTGACAGGTCAGCGTACTAACGAAATTAGACACCCACAAGAAGTGTGATTCCACATACAACTATCCCGTCTCTTAAACACTCCGAACATAAACCGCTTAGCCGTTATAATCACCGACGCCATCGTGGAAACACGCGGACCCTCA\n",
      "A: 2 3 2 3 4 3 5 2 4 3 3 2 3 4 2 3 3 4 1 3 3 1 1 2 2 2 2 4 3 1 3 4 5 4 2 1 2 2 3 3 2 1 3 6 4 3 2 0 4 3 2 2 4 1 3 2 2 1 3 0 1 2 4 1 4 2 4 1 1 4 1 3 4 2 2 3 3 2 3 1 5 3 2 3 3 3 1 3 5 4 2 2 1 1 2 1 3 3 4 1 1 2 3 3 5 3 2 4 3 1 3 0 2 3 4 3 2 1 1 0 2 1 2 1 4 2 2 1 2 4 3 2 4 4 4 1 2 4 3 2 2 1 1 3 1 2 4 2 2 2 1 3 2 1 5 3 3 1 2 5 3 3 3 4 1 3 2 4 1 3 1 2 5 2 4 1 6 5 3 5 2 2 2 2 3 2 3 1 2 3 2 2 3 3 6 3 2 4 2 4 1 2 3 4 2 3 3 3 4 3 6 4 3 5 5 2 1 2 2 2 3 1 0 3 0 2 4 2 4 3 4 3 3 3 3 2 2 3 1 3 1 3 0 2 5 2 2 3 1 5 2 0 1 2 2 2 3 3 4 5 6 3 1 2 1 0 3 4 0 4 3 1 3 2 3 4 1 3 3 7 2 1 3 2 2 3 2 3 3 1 4 2 2 5 0 2 1 5 2 5 2 2 5 4 1 2 2 1 1 1 3 3 5 2 0 3 5 6 4 3 2 4 0 0 3 6 3 1 5 4 1 3 1 1 2 2 6 2 4 3 2 2 3 2 3 2 2 3 2 3 3 0 3 1 3 4 2 2 3 3 2 4 5 3 3 3 4 3 1 4 3 5 1 0 3 2 0 1 2 3 5 3 1 0 2 3 2 3 2 1 1 4 1 4 3 2 3 3 3 4 4 2 0 0 1 2 4 4 0 2 4 1 4 2 4 4 1 1 3 1 1 4 2 2 4 5 2 3 3 1 2 1 5 2 2 0 3 4 5 2 1 3 4 1 4 2 4 4 2 3 5 2 1 4 4 2 3 2 2 3 2 1 5 3 1 2 4 2 1 3 3 1 3 1 2 2 1 3 8 1 4 1 1 2 3 3 2 3 4 2 3 2 2 3 1 2 3 4 4 3 1 6 3 4 2 2 2 2 2 2 3 5 3 2 5 2 5 2 3 3 4 3 2 6 3 2 2 2 1 3 5 2 5 2 2 4 2 4 4 3 1 3 1 3 4 2 5 1 6 2 3 2 1 1 4 2 1 2 3 1 4 2 1 1 3 1 2 2 2 4 3 1 1 3 1 3 4 2 2 5 2 2 3 1 2 2 3 3 3 2 0 1 0 3 4 2 2 2 2 1 2 1 1 1 3 4 2 1 4 1 1 2 2 1 4 0 3 3 5 5 4 2 3 1 4 4 3 3 4 1 1 2 2 3 0 3 3 1 2 1 5 2 4 3 2 4 2 2 3 1 1 3 3 1 2 3 2 5 3 4 3 0 3 1 3 1 2 1 4 1 6 7 1 1 3 1 3 1 4 0 3 1 2 1 3 0 3 5 2 2 3 2 5 0 3 4 1 2 3 3 3 3 1 2 3 1 1 4 1 1 1 5 4 3 6 1 3 5 2 2 1 5 5 6 2 2 3 0 3 4 3 0 3 4 2 2 2 2 1 3 1 0 4 3 2 3 3 2 1 3 2 4 1 2 5 4 3 5 2 6 2 3 5 2 1 4 3 5 2 2 3 1 4 2 4 1 2 2 3 4 1 2 1 2 3 2 3 5 4 1 2 3 4 4 0 2 6 2 4 1 4 1 1 0 5 3 3 5 1 3 4 0 1 3 2 3 6 3 2 1 2 4 2 5 3 3 2 5 3 1 2 3 2 1 2 1 1 2 2 0 1 2 2 4 6 5 2 4 1 0 2 2 2 3 3 0 3 3 4 5 4 2 3 2 2 3 2 4 0 2 1 2 3 2 6 1 4 4 3 3 4 0 2 0 3 2 2 2 1 5 3 2 1 3 2 2 4 5 4 1 6 1 1 3 2 3 5 2 2 2 2 2 5\n",
      "C: 4 2 2 2 0 3 2 3 3 2 3 2 1 2 4 3 2 1 2 3 6 3 2 3 1 6 1 1 0 1 1 1 3 4 0 4 3 5 4 3 3 2 3 1 1 3 2 4 0 1 4 4 2 2 2 0 5 3 4 2 3 2 1 2 2 1 4 1 5 3 3 3 5 3 4 4 2 2 4 4 2 3 3 3 5 2 2 4 3 2 1 2 4 3 4 4 3 1 2 1 4 3 3 0 4 3 2 4 5 4 4 3 3 1 2 4 4 3 2 3 5 1 3 3 2 3 1 5 3 1 3 2 4 2 3 3 2 3 4 4 4 3 4 1 3 2 0 2 4 2 3 5 3 2 1 3 2 3 2 0 2 3 2 1 4 3 2 1 5 1 7 3 2 2 0 5 0 3 1 2 4 2 3 2 2 5 3 3 3 4 4 3 2 2 0 2 1 5 1 1 3 3 0 3 3 0 3 2 1 3 2 3 1 2 3 1 4 2 3 2 3 2 4 4 3 2 2 1 1 3 1 2 2 1 1 3 2 2 4 4 3 3 4 5 1 3 1 1 2 1 2 5 2 2 3 4 2 1 1 2 1 1 4 2 3 4 5 2 3 3 0 2 3 6 5 1 1 3 1 1 6 5 4 0 5 2 1 2 3 4 1 2 2 3 6 4 3 4 4 1 3 5 0 3 4 4 2 3 6 2 0 1 1 2 2 4 1 3 1 1 1 2 2 6 2 2 1 0 1 1 3 3 2 2 2 1 1 2 2 0 3 4 3 3 4 2 1 1 3 2 2 4 2 4 3 1 2 4 4 2 2 2 0 2 1 2 1 1 2 2 1 2 3 3 2 0 4 2 2 4 3 4 6 6 0 3 4 3 4 3 2 2 2 1 2 3 2 3 3 2 4 3 5 5 1 2 4 3 3 1 3 4 0 2 1 2 1 4 3 2 5 2 3 2 3 0 4 1 2 1 2 3 1 5 1 0 1 0 1 2 3 4 3 5 1 3 2 2 4 1 4 3 1 4 0 3 4 2 2 0 3 2 2 1 4 3 1 1 2 2 5 2 2 3 0 2 0 5 0 5 1 5 4 1 1 2 2 4 3 2 2 4 1 4 4 2 0 1 4 1 3 0 5 2 4 2 3 6 2 3 3 0 2 2 2 3 2 5 3 1 0 2 3 2 3 2 6 2 3 3 1 1 1 5 3 3 3 2 2 3 0 2 5 3 2 4 2 1 1 0 3 4 3 3 2 1 3 3 2 4 3 4 2 1 1 4 2 0 2 3 1 4 5 3 5 5 4 3 3 1 2 4 3 3 2 0 4 2 2 4 4 5 2 1 0 3 4 2 3 5 4 4 2 5 3 2 3 4 1 4 4 0 0 1 1 2 1 2 0 1 3 4 1 1 3 0 2 1 1 1 2 0 1 5 3 4 1 3 2 2 0 2 1 1 3 2 4 2 1 2 2 2 2 2 6 3 5 1 0 3 2 3 4 3 2 3 4 1 1 3 2 1 4 3 4 3 4 2 2 3 2 3 4 4 1 5 0 1 4 2 1 3 2 3 4 2 2 2 2 3 2 2 2 4 2 5 1 3 4 3 3 2 1 2 0 3 3 4 4 1 4 4 2 1 2 1 3 3 2 1 3 3 2 2 4 6 3 2 3 2 4 3 2 1 3 2 1 1 4 2 4 2 2 2 2 2 3 2 4 1 2 2 2 2 4 3 4 1 2 2 1 1 2 3 4 3 2 3 4 1 3 3 3 0 2 3 1 2 2 5 0 3 3 1 3 2 3 0 1 5 1 6 3 5 2 4 3 0 0 3 2 3 2 1 3 1 0 0 2 3 4 3 3 3 2 3 3 1 2 4 1 2 3 4 4 5 1 1 4 2 6 3 1 1 1 0 3 2 3 1 4 3 3 3 2 6 1 0 2 0 2 3 5 2 6 3 2 3 2 3 6 3 1 2 1 2 2 3 1 4 3 4 4 2 1 3 2 4 6 3 2 3 3 1 2 3 2 1 4 5 1 4 2 4 1 3 3 4 3 3 1 3 1\n",
      "G: 4 3 3 1 3 2 1 4 1 1 1 3 3 2 1 2 2 2 2 2 0 0 4 2 2 1 2 3 6 4 3 2 2 1 3 1 2 2 2 3 2 3 3 0 2 3 5 1 3 2 3 1 3 4 2 5 1 4 2 6 3 4 3 4 2 4 1 5 1 1 2 2 0 0 2 1 3 2 0 1 1 2 4 1 1 3 4 2 1 1 4 3 3 3 4 3 2 2 3 3 3 1 2 6 0 1 2 1 2 2 2 6 3 3 0 2 2 4 3 2 2 6 3 1 1 2 2 3 4 4 3 3 1 2 2 2 5 0 1 0 0 3 2 4 3 3 2 3 4 3 5 1 3 3 3 1 2 0 1 3 3 4 1 2 5 1 6 3 1 3 1 2 2 3 3 3 3 2 3 0 0 4 2 3 3 2 2 2 2 2 2 3 3 3 1 2 3 1 2 3 2 3 3 2 3 5 2 3 2 2 2 2 4 0 1 4 3 3 4 5 2 2 2 2 3 3 3 4 1 3 2 3 3 3 1 3 4 3 2 3 4 2 2 2 2 2 3 2 2 0 3 3 2 3 3 2 3 3 2 2 2 3 3 3 5 5 1 3 6 0 3 5 1 1 1 1 5 1 2 0 2 3 1 5 3 3 2 2 2 2 1 6 2 1 4 2 2 1 3 3 2 2 4 2 4 3 5 3 1 6 3 2 1 3 6 2 0 1 2 3 3 3 7 4 3 0 5 0 1 1 2 2 6 3 6 2 2 5 2 4 5 2 2 3 1 1 5 6 2 1 4 3 3 3 3 3 3 1 2 4 4 1 1 2 1 2 2 3 7 3 1 2 4 3 4 4 4 5 2 2 2 3 1 3 5 0 3 1 3 2 3 1 3 2 1 1 2 3 2 3 1 1 1 2 2 3 0 1 2 5 0 1 2 5 4 1 6 3 2 4 1 1 1 4 1 3 3 4 2 6 4 1 1 2 4 6 3 2 4 3 4 2 2 3 3 3 0 2 2 4 0 2 2 1 1 2 1 3 3 3 4 4 1 2 0 2 3 4 4 1 0 2 2 3 3 2 3 1 1 3 2 2 2 6 2 4 2 2 1 1 4 1 5 1 4 5 3 2 0 3 3 1 1 4 3 4 3 0 2 3 0 2 3 2 2 0 2 0 2 2 2 2 3 1 1 2 0 6 2 2 2 3 2 2 3 3 4 3 2 2 5 2 2 1 2 1 1 6 1 4 1 3 3 1 2 4 5 2 4 1 1 4 4 6 4 3 4 3 3 1 2 3 1 2 3 2 0 2 0 2 3 2 1 4 3 4 3 5 2 2 3 3 3 2 4 2 1 6 4 2 2 3 2 3 2 1 5 4 5 2 4 5 6 3 4 6 4 4 1 2 3 1 2 8 0 3 3 3 1 2 3 5 3 1 2 0 3 5 3 4 1 3 4 3 2 0 4 5 4 4 6 3 1 4 2 4 2 3 2 1 2 4 3 2 4 1 0 5 4 2 2 1 4 4 2 3 2 3 0 4 1 5 2 2 3 2 4 1 2 2 1 2 1 4 2 1 6 3 2 2 1 1 5 3 1 2 3 2 5 3 3 1 3 1 1 2 1 0 1 2 2 1 2 1 2 6 1 0 4 2 2 4 2 3 3 2 3 2 3 1 2 5 2 3 2 4 3 3 4 2 2 1 4 3 3 4 1 2 1 2 4 3 1 2 3 1 1 1 1 4 2 5 1 3 2 5 3 1 2 4 5 3 4 3 2 2 2 1 1 2 5 3 1 3 3 2 1 6 2 2 2 1 3 4 0 2 2 2 6 1 2 6 2 5 1 4 2 1 1 3 1 2 3 1 1 2 3 1 2 2 2 2 1 3 2 0 7 3 1 3 3 1 3 3 1 3 3 3 3 2 1 3 4 1 2 2 3 1 1 3 2 2 0 3 2 0 2 2 4 2 2 4 2 2 1 3 2 1 2 1 0 2 0 4 3 3 5 2 0 2 1 3 4 1 3 4 2 0 1 1 1 3 5 2 6 4 0 2 3 3 3 3 2\n",
      "T: 0 2 3 4 3 2 2 1 2 4 3 3 3 2 3 2 3 3 5 2 1 6 3 3 5 1 5 2 1 4 3 3 0 1 5 4 3 1 1 1 3 4 1 3 3 1 1 5 3 4 1 3 1 3 3 3 2 2 1 2 3 2 2 3 2 3 1 3 3 2 4 2 1 5 2 2 2 4 3 4 2 2 1 3 1 2 3 1 1 3 3 3 2 3 0 2 2 4 1 5 2 4 2 1 1 3 4 1 0 3 1 1 2 3 4 1 2 2 4 5 1 2 2 5 3 3 5 1 1 1 1 3 1 2 1 4 1 3 2 4 4 3 3 2 3 3 4 3 0 3 1 1 2 4 1 3 3 6 5 2 2 0 4 3 0 3 0 2 3 3 1 3 1 3 3 1 1 0 3 3 4 2 3 3 2 1 2 4 3 1 2 2 2 2 3 3 4 0 5 2 4 2 4 1 2 2 2 2 3 2 0 1 2 3 1 3 2 3 1 1 2 5 4 1 4 3 1 3 4 1 3 2 2 3 5 2 2 2 3 0 2 2 4 1 2 3 4 4 5 4 3 2 5 3 2 2 2 3 3 1 1 3 2 3 1 1 1 1 1 3 4 2 3 1 1 4 3 3 4 2 0 1 2 3 0 2 5 3 2 3 4 0 4 1 0 2 4 0 1 1 3 1 1 1 1 1 1 3 2 1 4 4 3 3 2 1 4 0 3 3 4 1 1 0 2 2 1 9 3 4 4 2 1 4 0 5 1 1 2 3 0 2 2 2 2 5 2 0 3 4 1 3 2 2 1 2 3 3 1 1 2 3 4 3 5 3 3 3 0 1 5 1 2 4 1 4 2 2 4 1 0 0 2 1 3 4 1 3 1 4 4 3 4 3 4 4 3 1 2 1 1 4 4 3 6 3 2 2 5 2 3 4 4 1 1 3 2 2 2 3 3 3 4 2 2 2 1 2 3 2 2 5 3 1 3 4 3 4 0 3 2 1 1 1 2 2 4 2 2 2 1 3 6 1 5 3 2 3 3 4 1 3 2 4 5 3 2 3 3 4 2 5 3 3 5 4 6 1 1 1 3 2 3 1 4 1 4 1 2 5 1 3 2 2 1 1 4 3 2 3 3 3 1 0 1 2 2 2 4 2 4 3 2 4 1 5 1 3 2 4 4 3 2 1 3 4 2 0 4 2 2 4 2 1 2 0 1 1 2 2 4 3 2 3 2 3 2 2 2 4 3 1 3 5 2 3 1 3 1 4 2 0 3 2 2 2 2 5 3 2 4 2 3 2 1 0 2 3 5 2 3 2 3 2 3 4 0 0 3 2 3 1 5 4 2 3 3 0 1 2 2 2 5 1 2 3 0 1 0 3 1 3 2 5 1 2 2 1 4 2 0 3 4 0 3 3 2 3 4 6 4 3 4 1 5 3 3 1 3 3 4 3 1 3 3 4 0 1 2 3 1 2 4 3 0 0 1 1 5 2 3 3 0 4 1 5 4 3 1 4 0 1 1 2 1 3 1 4 4 3 4 1 2 3 3 3 3 3 2 4 5 3 2 3 1 3 1 3 3 2 4 4 2 1 4 2 5 1 0 3 3 2 2 4 3 4 3 1 3 5 3 0 1 2 4 1 3 7 1 3 2 3 3 1 1 0 2 4 3 4 3 2 2 3 3 1 3 4 1 3 2 3 3 3 0 0 3 1 3 1 2 2 2 4 2 2 2 3 5 2 4 3 3 2 0 1 3 4 1 1 1 2 2 5 3 3 4 2 3 2 3 1 2 2 4 4 0 2 3 2 3 2 3 1 3 1 2 3 3 3 2 1 5 1 4 2 2 6 5 3 3 1 2 1 4 2 2 3 3 3 5 3 4 2 2 4 1 4 3 5 0 4 4 2 2 2 2 1 3 7 3 2 1 3 3 2 3 6 3 2 2 3 2 3 0 4 4 1 4 3 1 1 4 4 2 4 2 2 4 2 3 4 4 4 3 2 1 2 3 0 4 2 2 5 3 1 2 4 1 3 2 2 2 1 1 0 2 2 2 2 4 2 2\n"
     ]
    }
   ],
   "source": [
    "for i in profilelist:\n",
    "    i = nuccode[i]\n",
    "    profilelistchar.append(i)\n",
    "\n",
    "consensusstring = ''.join(profilelistchar)\n",
    "# print(len(consensusstring))\n",
    "print(consensusstring.replace('\\n',''))\n",
    "print('A:',Aprof)\n",
    "print('C:',Cprof)\n",
    "print('G:',Gprof)\n",
    "print('T:',Tprof)"
   ]
  }
 ],
 "metadata": {
  "kernelspec": {
   "display_name": "Python 3",
   "language": "python",
   "name": "python3"
  },
  "language_info": {
   "codemirror_mode": {
    "name": "ipython",
    "version": 3
   },
   "file_extension": ".py",
   "mimetype": "text/x-python",
   "name": "python",
   "nbconvert_exporter": "python",
   "pygments_lexer": "ipython3",
   "version": "3.9.5"
  }
 },
 "nbformat": 4,
 "nbformat_minor": 5
}

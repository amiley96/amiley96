{
 "cells": [
  {
   "cell_type": "code",
   "execution_count": 72,
   "id": "5db5bf9d",
   "metadata": {},
   "outputs": [],
   "source": [
    "filename = \"/Users/alexandriamiley/Desktop/Rosalind/Bioinformatics Stronghold/rosalind_hamm.txt\"\n",
    "\n",
    "with open(filename) as f:\n",
    "    seq = f.readlines()"
   ]
  },
  {
   "cell_type": "code",
   "execution_count": 73,
   "id": "e4bbb39b",
   "metadata": {},
   "outputs": [],
   "source": [
    "firstseq = seq[0]\n",
    "secondseq = seq[1]\n",
    "firstseq\n",
    "secondseq\n",
    "count = 0"
   ]
  },
  {
   "cell_type": "code",
   "execution_count": 74,
   "id": "36ead3a6",
   "metadata": {},
   "outputs": [
    {
     "data": {
      "text/plain": [
       "463"
      ]
     },
     "execution_count": 74,
     "metadata": {},
     "output_type": "execute_result"
    }
   ],
   "source": [
    "for i in range(len(firstseq)-1):\n",
    "    if (firstseq[i]!=secondseq[i]):\n",
    "        count=count+1\n",
    "    else:\n",
    "        count = count\n",
    "count\n"
   ]
  }
 ],
 "metadata": {
  "kernelspec": {
   "display_name": "Python 3",
   "language": "python",
   "name": "python3"
  },
  "language_info": {
   "codemirror_mode": {
    "name": "ipython",
    "version": 3
   },
   "file_extension": ".py",
   "mimetype": "text/x-python",
   "name": "python",
   "nbconvert_exporter": "python",
   "pygments_lexer": "ipython3",
   "version": "3.9.5"
  }
 },
 "nbformat": 4,
 "nbformat_minor": 5
}

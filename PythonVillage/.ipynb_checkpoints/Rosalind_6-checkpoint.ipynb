{
 "cells": [
  {
   "cell_type": "code",
   "execution_count": 2,
   "id": "64b18015",
   "metadata": {},
   "outputs": [],
   "source": [
    "string='We tried list and we tried dicts also we tried Zen'"
   ]
  },
  {
   "cell_type": "code",
   "execution_count": 54,
   "id": "a9dc7f9d",
   "metadata": {},
   "outputs": [
    {
     "name": "stdout",
     "output_type": "stream",
     "text": [
      "When I find myself in times of trouble Mother Mary comes to me Speaking words of wisdom let it be And in my hour of darkness she is standing right in front of me Speaking words of wisdom let it be Let it be let it be let it be let it be Whisper words of wisdom let it be And when the broken hearted people living in the world agree There will be an answer let it be For though they may be parted there is still a chance that they will see There will be an answer let it be Let it be let it be let it be let it be There will be an answer let it be Let it be let it be let it be let it be Whisper words of wisdom let it be Let it be let it be let it be let it be Whisper words of wisdom let it be And when the night is cloudy there is still a light that shines on me Shine until tomorrow let it be I wake up to the sound of music Mother Mary comes to me Speaking words of wisdom let it be Let it be let it be let it be yeah let it be There will be an answer let it be Let it be let it be let it be yeah let it be Whisper words of wisdom let it be\n"
     ]
    }
   ],
   "source": [
    "filename = \"/Users/alexandriamiley/Desktop/Rosalind/rosalind_ini6.txt\"\n",
    "\n",
    "with open(filename) as f:\n",
    "    string = f.readlines()\n",
    "\n",
    "listofwords=str(string[0]).strip()\n",
    "listofwords=listofwords.split()"
   ]
  },
  {
   "cell_type": "code",
   "execution_count": 56,
   "id": "0f5847d2",
   "metadata": {},
   "outputs": [
    {
     "name": "stdout",
     "output_type": "stream",
     "text": [
      "When 1\n",
      "I 2\n",
      "find 1\n",
      "myself 1\n",
      "in 4\n",
      "times 1\n",
      "of 11\n",
      "trouble 1\n",
      "Mother 2\n",
      "Mary 2\n",
      "comes 2\n",
      "to 3\n",
      "me 4\n",
      "Speaking 3\n",
      "words 7\n",
      "wisdom 7\n",
      "let 30\n",
      "it 36\n",
      "be 41\n",
      "And 3\n",
      "my 1\n",
      "hour 1\n",
      "darkness 1\n",
      "she 1\n",
      "is 4\n",
      "standing 1\n",
      "right 1\n",
      "front 1\n",
      "Let 6\n",
      "Whisper 4\n",
      "when 2\n",
      "the 4\n",
      "broken 1\n",
      "hearted 1\n",
      "people 1\n",
      "living 1\n",
      "world 1\n",
      "agree 1\n",
      "There 4\n",
      "will 5\n",
      "an 4\n",
      "answer 4\n",
      "For 1\n",
      "though 1\n",
      "they 2\n",
      "may 1\n",
      "parted 1\n",
      "there 2\n",
      "still 2\n",
      "a 2\n",
      "chance 1\n",
      "that 2\n",
      "see 1\n",
      "night 1\n",
      "cloudy 1\n",
      "light 1\n",
      "shines 1\n",
      "on 1\n",
      "Shine 1\n",
      "until 1\n",
      "tomorrow 1\n",
      "wake 1\n",
      "up 1\n",
      "sound 1\n",
      "music 1\n",
      "yeah 2\n"
     ]
    }
   ],
   "source": [
    "d = {}\n",
    "for i in listofwords:\n",
    "    if i not in d:\n",
    "        d[i]=1\n",
    "    else: \n",
    "        d[i]+=1\n",
    "\n",
    "for i in d:\n",
    "     print(str(i) + \" \" + str(d[i]))"
   ]
  }
 ],
 "metadata": {
  "kernelspec": {
   "display_name": "Python 3",
   "language": "python",
   "name": "python3"
  },
  "language_info": {
   "codemirror_mode": {
    "name": "ipython",
    "version": 3
   },
   "file_extension": ".py",
   "mimetype": "text/x-python",
   "name": "python",
   "nbconvert_exporter": "python",
   "pygments_lexer": "ipython3",
   "version": "3.9.5"
  }
 },
 "nbformat": 4,
 "nbformat_minor": 5
}

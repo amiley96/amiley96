{
 "cells": [
  {
   "cell_type": "code",
   "execution_count": 46,
   "id": "bbcc41f5",
   "metadata": {},
   "outputs": [],
   "source": [
    "filename = \"/Users/alexandriamiley/Desktop/Rosalind/rosalind_ini4.txt\"\n",
    "\n",
    "with open(filename) as f:\n",
    "    content = f.readlines()\n",
    "\n",
    "listindices=content[0].split()"
   ]
  },
  {
   "cell_type": "code",
   "execution_count": 47,
   "id": "d5114101",
   "metadata": {},
   "outputs": [],
   "source": [
    "first=int(listindices[0])\n",
    "second=int(listindices[1])\n",
    "\n",
    "nextt=first+1\n",
    "summ=0\n",
    "\n",
    "summlist=[]"
   ]
  },
  {
   "cell_type": "code",
   "execution_count": 48,
   "id": "6c45cec9",
   "metadata": {},
   "outputs": [
    {
     "name": "stdout",
     "output_type": "stream",
     "text": [
      "14314769\n"
     ]
    }
   ],
   "source": [
    "summlist.append(first) if first%2==1 else False\n",
    "\n",
    "while nextt<=second:\n",
    "    summ=nextt\n",
    "    nextt=nextt+1\n",
    "    summlist.append(summ) if (summ%2) == 1 else False\n",
    "\n",
    "print(sum(summlist))"
   ]
  }
 ],
 "metadata": {
  "kernelspec": {
   "display_name": "Python 3",
   "language": "python",
   "name": "python3"
  },
  "language_info": {
   "codemirror_mode": {
    "name": "ipython",
    "version": 3
   },
   "file_extension": ".py",
   "mimetype": "text/x-python",
   "name": "python",
   "nbconvert_exporter": "python",
   "pygments_lexer": "ipython3",
   "version": "3.9.5"
  }
 },
 "nbformat": 4,
 "nbformat_minor": 5
}

{
 "cells": [
  {
   "cell_type": "code",
   "execution_count": 28,
   "id": "5e528d5a",
   "metadata": {},
   "outputs": [
    {
     "name": "stdout",
     "output_type": "stream",
     "text": [
      "XXAJzsm7Su9eodF0UJON22GLzqijguXERiclEveN6r37TkPp7CUGRIbBHwTqzRmBi8HOq1pGTIIdDZo7BOZ1CJaB2UBubulcusCaRfbla4jCWNmvV3t752CqSRSpS9MtTOgcpTb4RVHWzz1gyBasdmaJGDjEQXMZdncolubrinusQ8fgMVvmCB.\n",
      "\n",
      "90 97 162 171\n",
      "\n"
     ]
    }
   ],
   "source": [
    "filename = \"/Users/alexandriamiley/Desktop/Rosalind/rosalind_ini3.txt\"\n",
    "\n",
    "with open(filename) as f:\n",
    "    content = f.readlines()\n",
    "    \n",
    "for line in content:\n",
    "    print(line)"
   ]
  },
  {
   "cell_type": "code",
   "execution_count": 29,
   "id": "b02d3810",
   "metadata": {},
   "outputs": [],
   "source": [
    "listindices=content[1].split()\n",
    "\n",
    "first=int(listindices[0])\n",
    "second=int(listindices[1])+1\n",
    "third=int(listindices[2])\n",
    "fourth=int(listindices[3])+1\n"
   ]
  },
  {
   "cell_type": "code",
   "execution_count": 31,
   "id": "b9cf3cf6",
   "metadata": {},
   "outputs": [
    {
     "name": "stdout",
     "output_type": "stream",
     "text": [
      "Bubulcus colubrinus\n"
     ]
    }
   ],
   "source": [
    "print((content[0][first:second])+ \" \"+(content[0][third:fourth]))"
   ]
  },
  {
   "cell_type": "code",
   "execution_count": 6,
   "id": "83e4c91e",
   "metadata": {},
   "outputs": [
    {
     "name": "stdout",
     "output_type": "stream",
     "text": [
      "22 27 97 102\n"
     ]
    }
   ],
   "source": []
  }
 ],
 "metadata": {
  "kernelspec": {
   "display_name": "Python 3",
   "language": "python",
   "name": "python3"
  },
  "language_info": {
   "codemirror_mode": {
    "name": "ipython",
    "version": 3
   },
   "file_extension": ".py",
   "mimetype": "text/x-python",
   "name": "python",
   "nbconvert_exporter": "python",
   "pygments_lexer": "ipython3",
   "version": "3.9.5"
  }
 },
 "nbformat": 4,
 "nbformat_minor": 5
}

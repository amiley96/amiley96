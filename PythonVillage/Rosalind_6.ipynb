{
 "cells": [
  {
   "cell_type": "code",
   "execution_count": 2,
   "id": "64b18015",
   "metadata": {},
   "outputs": [],
   "source": [
    "string='We tried list and we tried dicts also we tried Zen'"
   ]
  },
  {
   "cell_type": "code",
   "execution_count": 4,
   "id": "a9dc7f9d",
   "metadata": {},
   "outputs": [],
   "source": [
    "filename = \"/Users/alexandriamiley/Desktop/Rosalind/Python Village/rosalind_ini6.txt\"\n",
    "\n",
    "with open(filename) as f:\n",
    "    string = f.readlines()\n",
    "\n",
    "listofwords=str(string[0]).strip()\n",
    "listofwords=listofwords.split()"
   ]
  },
  {
   "cell_type": "code",
   "execution_count": 8,
   "id": "0f5847d2",
   "metadata": {},
   "outputs": [
    {
     "name": "stdout",
     "output_type": "stream",
     "text": [
      "When\n",
      "I\n",
      "find\n",
      "myself\n",
      "in\n",
      "times\n",
      "of\n",
      "trouble\n",
      "Mother\n",
      "Mary\n",
      "comes\n",
      "to\n",
      "me\n",
      "Speaking\n",
      "words\n",
      "wisdom\n",
      "let\n",
      "it\n",
      "be\n",
      "And\n",
      "my\n",
      "hour\n",
      "darkness\n",
      "she\n",
      "is\n",
      "standing\n",
      "right\n",
      "front\n",
      "Let\n",
      "Whisper\n",
      "when\n",
      "the\n",
      "broken\n",
      "hearted\n",
      "people\n",
      "living\n",
      "world\n",
      "agree\n",
      "There\n",
      "will\n",
      "an\n",
      "answer\n",
      "For\n",
      "though\n",
      "they\n",
      "may\n",
      "parted\n",
      "there\n",
      "still\n",
      "a\n",
      "chance\n",
      "that\n",
      "see\n",
      "night\n",
      "cloudy\n",
      "light\n",
      "shines\n",
      "on\n",
      "Shine\n",
      "until\n",
      "tomorrow\n",
      "wake\n",
      "up\n",
      "sound\n",
      "music\n",
      "yeah\n"
     ]
    }
   ],
   "source": [
    "d = {}\n",
    "for i in listofwords:\n",
    "    if i not in d:\n",
    "        d[i]=1\n",
    "    else: \n",
    "        d[i]+=1\n",
    "# print(d)\n",
    "        \n",
    "    \n",
    "for i in d:\n",
    "     print(i)\n",
    "# for i in d:\n",
    "#      print(str(i) + \" \" + str(d[i]))"
   ]
  }
 ],
 "metadata": {
  "kernelspec": {
   "display_name": "Python 3",
   "language": "python",
   "name": "python3"
  },
  "language_info": {
   "codemirror_mode": {
    "name": "ipython",
    "version": 3
   },
   "file_extension": ".py",
   "mimetype": "text/x-python",
   "name": "python",
   "nbconvert_exporter": "python",
   "pygments_lexer": "ipython3",
   "version": "3.9.5"
  }
 },
 "nbformat": 4,
 "nbformat_minor": 5
}

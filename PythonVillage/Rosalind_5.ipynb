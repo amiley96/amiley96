{
 "cells": [
  {
   "cell_type": "code",
   "execution_count": 44,
   "id": "77f859fa",
   "metadata": {},
   "outputs": [],
   "source": [
    "filename = \"/Users/alexandriamiley/Desktop/Rosalind/rosalind_ini5.txt\"\n",
    "\n",
    "with open(filename) as f:\n",
    "    string = f.readlines()"
   ]
  },
  {
   "cell_type": "code",
   "execution_count": 45,
   "id": "82d0d5e5",
   "metadata": {},
   "outputs": [
    {
     "name": "stdout",
     "output_type": "stream",
     "text": [
      "['`Twas brillig, and the slithy toves\\n', 'Some things in life are bad, they can really make you mad\\n', '  Did gyre and gimble in the wabe:\\n', 'Other things just make you swear and curse\\n', 'All mimsy were the borogoves,\\n', \"When you're chewing on life's gristle, don't grumble give a whistle\\n\", '  And the mome raths outgrabe.\\n', 'This will help things turn out for the best\\n', '\"Beware the Jabberwock, my son!\\n', 'Always look on the bright side of life\\n', '  The jaws that bite, the claws that catch!\\n', 'Always look on the right side of life\\n', 'Beware the Jubjub bird, and shun\\n', \"If life seems jolly rotten, there's something you've forgotten\\n\", '  The frumious Bandersnatch!\"\\n', \"And that's to laugh and smile and dance and sing\\n\", 'He took his vorpal sword in hand:\\n', \"When you're feeling in the dumps, don't be silly, chumps\\n\", '  Long time the manxome foe he sought --\\n', \"Just purse your lips and whistle, that's the thing\\n\", 'So rested he by the Tumtum tree,\\n', 'So, always look on the bright side of death\\n', '  And stood awhile in thought.\\n', 'Just before you draw your terminal breath\\n', 'And, as in uffish thought he stood,\\n', \"Life's a counterfeit and when you look at it\\n\", '  The Jabberwock, with eyes of flame,\\n', \"Life's a laugh and death's the joke, it's true\\n\", 'Came whiffling through the tulgey wood,\\n', \"You see, it's all a show, keep them laughing as you go\\n\", '  And burbled as it came!\\n', 'Just remember the last laugh is on you\\n', 'One, two! One, two! And through and through\\n', 'Always look on the bright side of life\\n', '  The vorpal blade went snicker-snack!\\n', 'And always look on the right side of life\\n', 'He left it dead, and with its head\\n', 'Always look on the bright side of life\\n', '  He went galumphing back.\\n', 'And always look on the right side of life\\n']\n"
     ]
    }
   ],
   "source": [
    "print(string)"
   ]
  },
  {
   "cell_type": "code",
   "execution_count": 47,
   "id": "e8c54b64",
   "metadata": {},
   "outputs": [],
   "source": [
    "lines=string\n",
    "linecount=(len(lines))\n",
    "count = 0\n",
    "listindice = []"
   ]
  },
  {
   "cell_type": "code",
   "execution_count": 48,
   "id": "15d8b4c6",
   "metadata": {},
   "outputs": [],
   "source": [
    "while count<linecount:\n",
    "    if count%2!=0:\n",
    "        listindice.append(count)\n",
    "    count+=1"
   ]
  },
  {
   "cell_type": "code",
   "execution_count": 51,
   "id": "3ffff419",
   "metadata": {},
   "outputs": [
    {
     "name": "stdout",
     "output_type": "stream",
     "text": [
      "Some things in life are bad, they can really make you mad\n",
      "Other things just make you swear and curse\n",
      "When you're chewing on life's gristle, don't grumble give a whistle\n",
      "This will help things turn out for the best\n",
      "Always look on the bright side of life\n",
      "Always look on the right side of life\n",
      "If life seems jolly rotten, there's something you've forgotten\n",
      "And that's to laugh and smile and dance and sing\n",
      "When you're feeling in the dumps, don't be silly, chumps\n",
      "Just purse your lips and whistle, that's the thing\n",
      "So, always look on the bright side of death\n",
      "Just before you draw your terminal breath\n",
      "Life's a counterfeit and when you look at it\n",
      "Life's a laugh and death's the joke, it's true\n",
      "You see, it's all a show, keep them laughing as you go\n",
      "Just remember the last laugh is on you\n",
      "Always look on the bright side of life\n",
      "And always look on the right side of life\n",
      "Always look on the bright side of life\n",
      "And always look on the right side of life\n"
     ]
    }
   ],
   "source": [
    "for i in listindice:\n",
    "    print(lines[i].strip())"
   ]
  }
 ],
 "metadata": {
  "kernelspec": {
   "display_name": "Python 3",
   "language": "python",
   "name": "python3"
  },
  "language_info": {
   "codemirror_mode": {
    "name": "ipython",
    "version": 3
   },
   "file_extension": ".py",
   "mimetype": "text/x-python",
   "name": "python",
   "nbconvert_exporter": "python",
   "pygments_lexer": "ipython3",
   "version": "3.9.5"
  }
 },
 "nbformat": 4,
 "nbformat_minor": 5
}
